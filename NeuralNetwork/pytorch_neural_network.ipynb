{
 "cells": [
  {
   "cell_type": "code",
   "execution_count": 409,
   "id": "cec59c9d",
   "metadata": {},
   "outputs": [],
   "source": [
    "import torch\n",
    "import torch.nn as nn\n",
    "import torch.nn.functional as F\n",
    "from torch.utils.data import DataLoader, Dataset, random_split\n",
    "import torch.optim as optim\n",
    "from sklearn.preprocessing import StandardScaler\n",
    "import pandas as pd\n",
    "import numpy as np"
   ]
  },
  {
   "cell_type": "code",
   "execution_count": 415,
   "id": "a6f4ed41",
   "metadata": {},
   "outputs": [],
   "source": [
    "class CancerDataset(Dataset):\n",
    "\n",
    "    def __init__(self, file_name):\n",
    "        data = pd.read_csv(file_name).iloc[:, 1:-1]\n",
    "        \n",
    "        x = data.iloc[:, 1:].values\n",
    "        y = pd.get_dummies(data.iloc[:, 0]).values\n",
    "        \n",
    "        sc = StandardScaler()\n",
    "        X = sc.fit_transform(x)\n",
    "        Y = y\n",
    "\n",
    "        self.X = torch.tensor(X, dtype=torch.float32)\n",
    "        self.Y = torch.tensor(Y, dtype=torch.float32)\n",
    "        \n",
    "    def __len__(self):\n",
    "        return len(self.Y)\n",
    "\n",
    "    def __getitem__(self, idx):\n",
    "        return self.X[idx], self.Y[idx]\n",
    "    \n",
    "    \n",
    "full_dataset = CancerDataset('data.csv')\n",
    "traininig_set, val_train_set = random_split(full_dataset, [455, 114])\n",
    "validation_set, testing_set = random_split(val_train_set, [57, 57])\n",
    "\n",
    "training_loader = DataLoader(traininig_set, batch_size=4, shuffle=True)\n",
    "validation_loader= DataLoader(validation_set, batch_size=8, shuffle=False)\n",
    "testing_loader = DataLoader(testing_set, batch_size=8, shuffle=False)"
   ]
  },
  {
   "cell_type": "code",
   "execution_count": 411,
   "id": "6311d114",
   "metadata": {},
   "outputs": [],
   "source": [
    "class Net(nn.Module):\n",
    "    def __init__(self):\n",
    "        super(Net, self).__init__()\n",
    "\n",
    "        self.linear1 = nn.Linear(30, 2)\n",
    "        self.activation = nn.ReLU()\n",
    "        self.linear2 = nn.Linear(2, 2)\n",
    "        self.softmax = nn.Softmax(dim=1)\n",
    "\n",
    "    \n",
    "    def forward(self, x):\n",
    "        x = self.linear1(x)\n",
    "        x = self.activation(x)\n",
    "        x = self.linear2(x)\n",
    "        x = self.softmax(x)\n",
    "        \n",
    "        return x"
   ]
  },
  {
   "cell_type": "code",
   "execution_count": 412,
   "id": "857907c4",
   "metadata": {},
   "outputs": [],
   "source": [
    "net = Net()\n",
    "\n",
    "optimizer = optim.SGD(net.parameters(), lr=0.01, momentum=0.9)\n",
    "criterion = nn.MSELoss()\n",
    "\n",
    "for epoch in range(4):\n",
    "    net.train()\n",
    "    for (inputs, labels) in training_loader:\n",
    "        optimizer.zero_grad()\n",
    "        \n",
    "        output = net(inputs)\n",
    "        # print(output, labels)\n",
    "        loss = criterion(output, labels)\n",
    "        loss.backward()\n",
    "        optimizer.step() "
   ]
  },
  {
   "cell_type": "code",
   "execution_count": 413,
   "id": "842bf27d",
   "metadata": {},
   "outputs": [],
   "source": [
    "PATH = './cancer_net.pth'\n",
    "torch.save(net.state_dict(), PATH)"
   ]
  },
  {
   "cell_type": "code",
   "execution_count": 414,
   "id": "3f2606be",
   "metadata": {},
   "outputs": [
    {
     "name": "stdout",
     "output_type": "stream",
     "text": [
      "Accuracy of nn: 0.9473684210526315\n"
     ]
    }
   ],
   "source": [
    "correct, total = 0, 0\n",
    "net.eval()\n",
    "with torch.no_grad():\n",
    "    for (inputs, labels) in testing_loader:\n",
    "        outputs = net(inputs)\n",
    "        \n",
    "        _, predicted = torch.max(outputs, 1)\n",
    "        _, y = torch.max(labels, 1)\n",
    "        \n",
    "        total += labels.size(0)\n",
    "        correct += (predicted == y).sum().item()\n",
    "        \n",
    "print(f'Accuracy of nn: {correct / total}')"
   ]
  }
 ],
 "metadata": {
  "kernelspec": {
   "display_name": "Python 3 (ipykernel)",
   "language": "python",
   "name": "python3"
  },
  "language_info": {
   "codemirror_mode": {
    "name": "ipython",
    "version": 3
   },
   "file_extension": ".py",
   "mimetype": "text/x-python",
   "name": "python",
   "nbconvert_exporter": "python",
   "pygments_lexer": "ipython3",
   "version": "3.10.5"
  }
 },
 "nbformat": 4,
 "nbformat_minor": 5
}
