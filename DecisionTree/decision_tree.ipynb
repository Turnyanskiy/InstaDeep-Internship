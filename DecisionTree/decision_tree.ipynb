{
 "cells": [
  {
   "cell_type": "code",
   "execution_count": 1,
   "id": "d5685a69",
   "metadata": {},
   "outputs": [],
   "source": [
    "import numpy as np\n",
    "import matplotlib.pyplot as plt\n",
    "import pandas as pd"
   ]
  },
  {
   "cell_type": "code",
   "execution_count": 2,
   "id": "7fee74bb",
   "metadata": {},
   "outputs": [],
   "source": [
    "def LabelEncoder(df): \n",
    "    encoder = dict(zip(df.unique(), range(df.nunique())))\n",
    "\n",
    "    for index, row in df.items():\n",
    "        df.at[index] = encoder[row]\n",
    "        \n",
    "    return df"
   ]
  },
  {
   "cell_type": "code",
   "execution_count": 3,
   "id": "474879d5",
   "metadata": {},
   "outputs": [],
   "source": [
    "def load_data(filename, columns, le): # Split data 90% training 10% testing and label encode\n",
    "    df = pd.read_csv(filename, sep=',', usecols = columns, index_col=False)\n",
    "    df = df.dropna() \n",
    "    \n",
    "    for column in le: \n",
    "        df[column] = LabelEncoder(df[column])\n",
    "        \n",
    "    train_x = np.array(df[columns[:-1]])[:int(len(df[columns[:-1]])*0.9)]\n",
    "    test_x = np.array(df[columns[:-1]])[-int(len(df[columns[:-1]])*0.1):]\n",
    "    train_y = np.array(df[columns[-1]])[:int(len(df[columns[-1]])*0.9)]\n",
    "    test_y = np.array(df[columns[-1]])[-int(len(df[columns[-1]])*0.1):]\n",
    "\n",
    "    return train_x, train_y, test_x, test_y"
   ]
  },
  {
   "cell_type": "code",
   "execution_count": 4,
   "id": "66e38da6",
   "metadata": {},
   "outputs": [],
   "source": [
    "class Node(): \n",
    "\n",
    "    def __init__(self, feature=None, threshold=None, left=None, right=None, value=None):\n",
    "        self.feature = feature\n",
    "        self.threshold = threshold\n",
    "        self.left = left\n",
    "        self.right = right\n",
    "        \n",
    "        # Only defined in leaf nodes\n",
    "        self.value = value"
   ]
  },
  {
   "cell_type": "code",
   "execution_count": 47,
   "id": "c4eaeabf",
   "metadata": {},
   "outputs": [],
   "source": [
    "class Tree:\n",
    "\n",
    "    def __init__(self, max_depth=6):\n",
    "        # Root node\n",
    "        self.root = None\n",
    "        \n",
    "        # Branch count\n",
    "        self.max_depth = max_depth\n",
    "    \n",
    "    def __grow(self, x, y, current_depth=0): # Recursive function, builds the tree.\n",
    "        samples, depth = x.shape\n",
    "        \n",
    "        if current_depth >= self.max_depth or len(np.unique(y)) <= 1:\n",
    "            return Node(value=np.argmax(np.bincount(y.flatten())))\n",
    "        \n",
    "        best_feature, best_threshold = self.__split(x, y, samples, depth)\n",
    "\n",
    "        left_indx = np.argwhere(x[:, best_feature] <= best_threshold).flatten()\n",
    "        right_indx = np.argwhere(x[:, best_feature] > best_threshold).flatten()\n",
    "        \n",
    "        left = self.__grow(x[left_indx, :], y[left_indx], current_depth+1)\n",
    "        right = self.__grow(x[right_indx, :], y[right_indx], current_depth+1)\n",
    "\n",
    "        return Node(best_feature, best_threshold, left, right)\n",
    "        \n",
    "    def __split(self, x, y, samples, features): # Finds the best split, returns the best feature (index), and optimal threshold.\n",
    "        best_gain = 0\n",
    "        best_threshold, best_feature_indx = None, None\n",
    "        \n",
    "        for feature_indx in range(features):    \n",
    "            feature = x[:, feature_indx]\n",
    "            thresholds = np.unique(feature)\n",
    "            \n",
    "            for threshold in thresholds:\n",
    "                left = np.argwhere(feature <= threshold).flatten()\n",
    "                right = np.argwhere(feature > threshold).flatten()\n",
    "                \n",
    "                gain = self.__gain(y, y[left], y[right])\n",
    "                \n",
    "                if gain > best_gain:\n",
    "                    best_gain = gain\n",
    "                    best_feature_indx = feature_indx\n",
    "                    best_threshold = threshold\n",
    "        \n",
    "        return best_feature_indx, best_threshold\n",
    "    \n",
    "    def __gain(self, parent, left, right): # Calculates the optimal information gain.\n",
    "        return self.__gini_impurity(parent) - ((len(left)/ len(parent)) * self.__gini_impurity(left) + (len(right) / len(parent)) * self.__gini_impurity(right))     \n",
    "    \n",
    "    def __gini_impurity(self, y): # The sum of the squared probability of samples that belong to a node.\n",
    "        options = np.unique(y)\n",
    "        gini = 0\n",
    "        for option in options:\n",
    "            option_probability = len(y[y == option]) / len(y)\n",
    "            gini += option_probability**2\n",
    "        return 1 - gini\n",
    "    \n",
    "    def __traverse(self, x, node): # Checks if leaf, if not then traverses tree\n",
    "        if node.value is not None:\n",
    "            return node.value\n",
    "        \n",
    "        if x[node.feature] <= node.threshold:\n",
    "            return self.__traverse(x, node.left)\n",
    "        return self.__traverse(x, node.right)\n",
    "    \n",
    "    def fit(self, x, y):\n",
    "        self.root = self.__grow(x, y)\n",
    "    \n",
    "    def predict(self, x):\n",
    "        return np.array([self.__traverse(i, self.root) for i in x])"
   ]
  },
  {
   "cell_type": "code",
   "execution_count": 51,
   "id": "dc9ff404",
   "metadata": {},
   "outputs": [],
   "source": [
    "def accuracy_score(test_y, predicted_y):\n",
    "    return sum([x == y for (x, y) in zip(predicted_y, test_y)]) / len(test_y)"
   ]
  },
  {
   "cell_type": "code",
   "execution_count": 57,
   "id": "2cfb57df",
   "metadata": {},
   "outputs": [],
   "source": [
    "def confusion_matrix(test_y, predicted_y):\n",
    "    size = len(np.unique(test_y))  \n",
    "    result = np.zeros((size, size))\n",
    "\n",
    "    for i in range(len(test_y)):\n",
    "        result[test_y[i]][predicted_y[i]] += 1\n",
    "        \n",
    "    return result"
   ]
  },
  {
   "cell_type": "code",
   "execution_count": 58,
   "id": "c1bbf9d8",
   "metadata": {
    "scrolled": true
   },
   "outputs": [
    {
     "name": "stdout",
     "output_type": "stream",
     "text": [
      "0.8450704225352113\n",
      "[[42.  3.]\n",
      " [ 8. 18.]]\n"
     ]
    }
   ],
   "source": [
    "if __name__ == '__main__' and '__file__' not in globals():\n",
    "    train_x, train_y, test_x, test_y = load_data('data.csv', ['Pclass', 'Sex', 'Age', 'SibSp', 'Parch', 'Fare', 'Embarked', 'Survived'], ['Sex', 'Embarked'])\n",
    "    \n",
    "    clf = Tree()\n",
    "    clf.fit(train_x, train_y)\n",
    "    \n",
    "    predicted_y = clf.predict(test_x)\n",
    "    print(accuracy_score(test_y, predicted_y))\n",
    "    print(confusion_matrix(test_y, predicted_y))"
   ]
  }
 ],
 "metadata": {
  "kernelspec": {
   "display_name": "Python 3 (ipykernel)",
   "language": "python",
   "name": "python3"
  },
  "language_info": {
   "codemirror_mode": {
    "name": "ipython",
    "version": 3
   },
   "file_extension": ".py",
   "mimetype": "text/x-python",
   "name": "python",
   "nbconvert_exporter": "python",
   "pygments_lexer": "ipython3",
   "version": "3.9.5"
  }
 },
 "nbformat": 4,
 "nbformat_minor": 5
}
